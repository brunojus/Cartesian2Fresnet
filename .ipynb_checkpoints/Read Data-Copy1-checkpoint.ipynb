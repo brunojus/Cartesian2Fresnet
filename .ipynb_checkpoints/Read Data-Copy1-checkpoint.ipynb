{
 "cells": [
  {
   "cell_type": "code",
   "execution_count": 18,
   "metadata": {},
   "outputs": [],
   "source": [
    "from pprint import pprint\n",
    "import re\n",
    "import pandas as pd\n",
    "from scipy import *\n",
    "import matplotlib.pyplot as plt\n",
    "import numpy as np\n",
    "from scipy.interpolate import InterpolatedUnivariateSpline\n",
    "import sympy as sym\n",
    "from scipy.interpolate import interp1d\n",
    "\n",
    "dictpat = r'\\{((?:\\s*\\w+\\s*:\\s*\\D+\\w+.\\d+\\s*)+)\\}' # note non-capturing (?:) inner group\n",
    "itempat = r'(\\s*(\\w+)\\s*:\\s*(\\D+\\w+.\\d+)\\s*)'      # which is captured in this expr\n",
    "\n",
    "with open('reference_points.pb.txt') as f:\n",
    "    lod = [{group[1]:group[2] for group in re.findall(itempat, items)}\n",
    "                                for items in re.findall(dictpat, f.read())]\n",
    "\n"
   ]
  },
  {
   "cell_type": "code",
   "execution_count": 2,
   "metadata": {},
   "outputs": [],
   "source": [
    "df = pd.DataFrame(lod)\n",
    "df = df.apply(pd.to_numeric)"
   ]
  },
  {
   "cell_type": "code",
   "execution_count": 3,
   "metadata": {},
   "outputs": [
    {
     "data": {
      "text/plain": [
       "Text(0, 0.5, 'y')"
      ]
     },
     "execution_count": 3,
     "metadata": {},
     "output_type": "execute_result"
    },
    {
     "data": {
      "image/png": "[encoded data removed]",
      "text/plain": [
       "<Figure size 432x288 with 1 Axes>"
      ]
     },
     "metadata": {
      "needs_background": "light"
     },
     "output_type": "display_data"
    }
   ],
   "source": [
    "plt.scatter(df['x'],df['y'])\n",
    "plt.xlabel('x')\n",
    "plt.ylabel('y')"
   ]
  },
  {
   "cell_type": "code",
   "execution_count": 378,
   "metadata": {},
   "outputs": [],
   "source": [
    "def calculate_euclidean_distance(x1, x2, y1, y2):\n",
    "    return np.sqrt((x1 - x2) * (x1 - x2) + (y1 - y2) * (y1 - y2))\n",
    "\n",
    "def calculate_sign(x1, x2, y1, y2):\n",
    "    check_sum = (x2-x1) + (y2-y1)\n",
    "    if check_sum < 0:\n",
    "        return -1.0\n",
    "    else:\n",
    "        return 1.0    \n",
    "\n",
    "def reference_spline(df):\n",
    "    global spline\n",
    "    return interp1d(df['x'], df['y'], kind='cubic',fill_value=\"extrapolate\")\n",
    "\n",
    "def calculate_boundaries(spline_start_x_value, spline_end_x_value):\n",
    "    global start_x_\n",
    "    global end_x_\n",
    "    start_x_ = spline_start_x_value\n",
    "    end_x_ = spline_end_x_value"
   ]
  },
  {
   "cell_type": "code",
   "execution_count": 392,
   "metadata": {},
   "outputs": [],
   "source": [
    "def CalculateFrenetCoordinates(coordinate_x, coordinate_y, precision= 0.1):\n",
    "\n",
    "    current_s = 0.0\n",
    "    if (end_x_ - start_x_) > 0.0:\n",
    "        current_x = start_x_\n",
    "    else:\n",
    "        current_x = end_x_\n",
    "    while (current_x < (end_x_ - start_x_) > 0.0 if end_x_ else start_x_):\n",
    "        distance = calculate_euclidean_distance(current_x, coordinate_x, spline(current_x), coordinate_y)\n",
    "        frenet_coordinates = {'d':10000,'s':10000}\n",
    "        if (distance <= frenet_coordinates['d']):\n",
    "            closest_x = current_x\n",
    "            frenet_coordinates['d'] = distance\n",
    "            frenet_coordinates['s'] = current_s - precision\n",
    "\n",
    "        current_s += calculate_euclidean_distance(\n",
    "            current_x, (current_x - precision), spline(current_x), spline(current_x - precision))\n",
    "        current_x += precision\n",
    "    \n",
    "    \n",
    "    frenet_coordinates['d'] *= calculate_sign(current_x, coordinate_x, spline(current_x), coordinate_y)\n",
    "\n",
    "    return frenet_coordinates\n",
    "\n",
    "\n",
    "\n"
   ]
  },
  {
   "cell_type": "code",
   "execution_count": 394,
   "metadata": {},
   "outputs": [
    {
     "data": {
      "text/plain": [
       "{'d': -22.000480776343913, 's': 41.800680992585505}"
      ]
     },
     "execution_count": 394,
     "metadata": {},
     "output_type": "execute_result"
    }
   ],
   "source": [
    "spline = reference_spline(df)\n",
    "calculate_boundaries(spline_ob.x[0],spline_ob.x[spline_ob.x.size-1])\n",
    "CalculateFrenetCoordinates(20,2)"
   ]
  },
  {
   "cell_type": "code",
   "execution_count": 358,
   "metadata": {},
   "outputs": [],
   "source": [
    "# function to find the waypoint closest to a given point on the plane\n",
    "def findWaypoint(x, y, df):\n",
    "    closestDist =  1000000.0\n",
    "    # iterate over the vector to find the shortest distance between the waypoints and the given point on the cartesian plane\n",
    "    for i,row in df.iterrows():\n",
    "        refTrajX = row['x']\n",
    "        refTrajY = row['y']\n",
    "        dist = calculate_euclidean_distance(x, y, refTrajX, refTrajY)\n",
    "         #store the closest distance and the waypoint number\n",
    "        if (dist < closestDist):\n",
    "            closestDist = dist\n",
    "            waypoint = i\n",
    "        \n",
    "    \n",
    "    return waypoint\n"
   ]
  },
  {
   "cell_type": "code",
   "execution_count": 369,
   "metadata": {},
   "outputs": [],
   "source": [
    "def cartesianToFrenet(x, y, df):\n",
    "    frenet_latitude = 0.0;\n",
    "    frenet_longitude= 0.0;\n",
    "    frenet_long = 0\n",
    "    frenet_vec = {}\n",
    "    leftX = False;\n",
    "    leftY = False;\n",
    "\n",
    "    waypoint_num = findWaypoint(x, y, df);\n",
    "    x2 = df['x'][waypoint_num+1]\n",
    "    y2 = df['y'][waypoint_num+1]\n",
    "    x1 = df['x'][len(df)-1]\n",
    "    y1 = df['y'][len(df)-1]\n",
    "\n",
    "    # compute x and y components of vector a between (x,y) and (x1,y1)\n",
    "    ax = x - x1\n",
    "    ay = y - y1\n",
    "    # compute x and y components of vector b between (x2,y2) and (x1,y1)\n",
    "    bx = x2 - x1\n",
    "    by = y2 - y1\n",
    "    # next step is to compute the projection of (x,y) on the reference trajectory\n",
    "    # vector b lies on the reference trajectory and therefore kb.(a-kb) = 0\n",
    "    # k = some scaling factor for vector b\n",
    "    # k = a.b/b.b where . is the vector dot product\n",
    "    scaling_fac = (ax*bx + ay*by)/(bx*bx + by*by)\n",
    "    projection_x = scaling_fac*bx\n",
    "    projection_y = scaling_fac*by\n",
    "\n",
    "    # latitude on the frenet coordinate system\n",
    "    frenet_lat = calculate_euclidean_distance(x, y, projection_x, projection_y)\n",
    "\n",
    "#     # check if the given point (x,y) is on the left/right of the reference trajectory\n",
    "    if(x > projection_x):\n",
    "        leftX = True\n",
    "\n",
    "    if(y > projection_y):\n",
    "        leftY = True\n",
    "\n",
    "    if(leftX and leftY):\n",
    "        frenet_lat *= -1\n",
    "    \n",
    "\n",
    "#     #longitude on the frenet coordinate system\n",
    "#     #compute distance until the waypoint closest to the given point (x,y) and add up the distance of this waypoint to the point (x,y)\n",
    "    for i in range(waypoint_num+1):\n",
    "        frenet_long += calculate_euclidean_distance(df['x'][i], df['y'][i], df['x'][i+1],df['y'][i+1])\n",
    "\n",
    "    frenet_long += calculate_euclidean_distance(x, y,df['x'][waypoint_num] , df['y'][waypoint_num])\n",
    "\n",
    "    return frenet_lat,frenet_long\n"
   ]
  },
  {
   "cell_type": "code",
   "execution_count": 368,
   "metadata": {},
   "outputs": [
    {
     "name": "stdout",
     "output_type": "stream",
     "text": [
      "1.8871831560709835\n"
     ]
    },
    {
     "data": {
      "text/plain": [
       "(-28.52605421365465, 19.88758059084047)"
      ]
     },
     "execution_count": 368,
     "metadata": {},
     "output_type": "execute_result"
    }
   ],
   "source": [
    "cartesianToFrenet(20,2,df)"
   ]
  },
  {
   "cell_type": "code",
   "execution_count": 384,
   "metadata": {},
   "outputs": [
    {
     "data": {
      "image/png": "[encoded data removed]",
      "text/plain": [
       "<Figure size 432x288 with 1 Axes>"
      ]
     },
     "metadata": {
      "needs_background": "light"
     },
     "output_type": "display_data"
    }
   ],
   "source": [
    "xnew = np.linspace(0, 41, num=41, endpoint=True)\n",
    "import matplotlib.pyplot as plt\n",
    "plt.plot(df['x'], df['y'], 'o', xnew, f2(xnew), '--',  -22.09941607999137, 41,'o')\n",
    "plt.legend(['data', 'cubic','fresnet_point'], loc='best')\n",
    "plt.show()"
   ]
  },
  {
   "cell_type": "code",
   "execution_count": 389,
   "metadata": {},
   "outputs": [
    {
     "data": {
      "text/plain": [
       "45.787055867431235"
      ]
     },
     "execution_count": 389,
     "metadata": {},
     "output_type": "execute_result"
    }
   ],
   "source": [
    "calculate_euclidean_distance(20, 2, df['x'][21],df['y'][21])"
   ]
  },
  {
   "cell_type": "code",
   "execution_count": null,
   "metadata": {},
   "outputs": [],
   "source": []
  }
 ],
 "metadata": {
  "kernelspec": {
   "display_name": "Python 3",
   "language": "python",
   "name": "python3"
  },
  "language_info": {
   "codemirror_mode": {
    "name": "ipython",
    "version": 3
   },
   "file_extension": ".py",
   "mimetype": "text/x-python",
   "name": "python",
   "nbconvert_exporter": "python",
   "pygments_lexer": "ipython3",
   "version": "3.7.3"
  }
 },
 "nbformat": 4,
 "nbformat_minor": 2
}
