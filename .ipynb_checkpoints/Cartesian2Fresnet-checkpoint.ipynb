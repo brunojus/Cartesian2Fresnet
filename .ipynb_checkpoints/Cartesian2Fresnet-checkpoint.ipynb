{
 "cells": [
  {
   "cell_type": "code",
   "execution_count": 2,
   "metadata": {},
   "outputs": [],
   "source": [
    "from pprint import pprint\n",
    "import re\n",
    "import pandas as pd\n",
    "from scipy import *\n",
    "import matplotlib.pyplot as plt\n",
    "import numpy as np\n",
    "from scipy.interpolate import InterpolatedUnivariateSpline\n",
    "import sympy as sym\n",
    "from scipy.interpolate import interp1d\n",
    "\n",
    "dictpat = r'\\{((?:\\s*\\w+\\s*:\\s*\\D+\\w+.\\d+\\s*)+)\\}' # note non-capturing (?:) inner group\n",
    "itempat = r'(\\s*(\\w+)\\s*:\\s*(\\D+\\w+.\\d+)\\s*)'      # which is captured in this expr\n",
    "\n",
    "with open('reference_points.pb.txt') as f:\n",
    "    lod = [{group[1]:group[2] for group in re.findall(itempat, items)}\n",
    "                                for items in re.findall(dictpat, f.read())]\n",
    "\n"
   ]
  },
  {
   "cell_type": "code",
   "execution_count": 3,
   "metadata": {},
   "outputs": [],
   "source": [
    "df = pd.DataFrame(lod)\n",
    "df = df.apply(pd.to_numeric)"
   ]
  },
  {
   "cell_type": "code",
   "execution_count": 4,
   "metadata": {},
   "outputs": [
    {
     "data": {
      "text/plain": [
       "Text(0, 0.5, 'y')"
      ]
     },
     "execution_count": 4,
     "metadata": {},
     "output_type": "execute_result"
    },
    {
     "data": {
      "image/png": "[encoded data removed]",
      "text/plain": [
       "<Figure size 432x288 with 1 Axes>"
      ]
     },
     "metadata": {
      "needs_background": "light"
     },
     "output_type": "display_data"
    }
   ],
   "source": [
    "plt.scatter(df['x'],df['y'])\n",
    "plt.xlabel('x')\n",
    "plt.ylabel('y')"
   ]
  },
  {
   "cell_type": "code",
   "execution_count": 5,
   "metadata": {},
   "outputs": [],
   "source": [
    "def calculate_euclidean_distance(x1, x2, y1, y2):\n",
    "    return np.sqrt((x1 - x2) * (x1 - x2) + (y1 - y2) * (y1 - y2))\n",
    "\n",
    "def calculate_sign(x1, x2, y1, y2):\n",
    "    check_sum = (x2-x1) + (y2-y1)\n",
    "    if check_sum < 0:\n",
    "        return -1.0\n",
    "    else:\n",
    "        return 1.0    \n",
    "\n",
    "def reference_spline(df):\n",
    "    global spline\n",
    "    return interp1d(df['x'], df['y'], kind='cubic',fill_value=\"extrapolate\")\n",
    "\n",
    "def calculate_boundaries(spline_start_x_value, spline_end_x_value):\n",
    "    global start_x_\n",
    "    global end_x_\n",
    "    start_x_ = spline_start_x_value\n",
    "    end_x_ = spline_end_x_value"
   ]
  },
  {
   "cell_type": "code",
   "execution_count": 33,
   "metadata": {},
   "outputs": [],
   "source": [
    "def cartesian2frenet(coordinate_x, coordinate_y, precision= 0.001):\n",
    "\n",
    "    current_s = 0\n",
    "    if (end_x_ - start_x_) > 0.0:\n",
    "        current_x = start_x_\n",
    "    else:\n",
    "        current_x = end_x_\n",
    "    while (current_x < (end_x_ - start_x_) > 0.0 if end_x_ else start_x_):\n",
    "        distance = calculate_euclidean_distance(current_x, coordinate_x, spline(current_x), coordinate_y)\n",
    "        frenet_coordinates = {'d':10000,'s':10000}\n",
    "        if (distance <= frenet_coordinates['d']):\n",
    "            frenet_coordinates['d'] = distance\n",
    "            frenet_coordinates['s'] = current_s - precision\n",
    "\n",
    "        current_s += calculate_euclidean_distance(\n",
    "            current_x, (current_x - precision), spline(current_x), spline(current_x - precision))\n",
    "        current_x += precision\n",
    "    \n",
    "    \n",
    "    frenet_coordinates['d'] *= calculate_sign(current_x, coordinate_x, spline(current_x), coordinate_y)\n",
    "\n",
    "    return frenet_coordinates\n",
    "\n",
    "\n",
    "\n"
   ]
  },
  {
   "cell_type": "code",
   "execution_count": 34,
   "metadata": {},
   "outputs": [],
   "source": [
    "spline_ob = reference_spline(df)\n",
    "calculate_boundaries(spline_ob.x[0],spline_ob.x[spline_ob.x.size-1])\n",
    "frenet = cartesian2frenet(20,2)"
   ]
  },
  {
   "cell_type": "code",
   "execution_count": 35,
   "metadata": {},
   "outputs": [
    {
     "data": {
      "image/png": "[encoded data removed]",
      "text/plain": [
       "<Figure size 432x288 with 1 Axes>"
      ]
     },
     "metadata": {
      "needs_background": "light"
     },
     "output_type": "display_data"
    }
   ],
   "source": [
    "xnew = np.linspace(0, 41, num=41, endpoint=True)\n",
    "import matplotlib.pyplot as plt\n",
    "plt.plot(df['x'], df['y'], 'o', xnew, spline_ob(xnew), '--', frenet['d'], frenet['s'],'o')\n",
    "plt.legend(['data', 'interpolation','fresnet_point'], loc='best')\n",
    "plt.show()"
   ]
  }
 ],
 "metadata": {
  "kernelspec": {
   "display_name": "Python 3",
   "language": "python",
   "name": "python3"
  },
  "language_info": {
   "codemirror_mode": {
    "name": "ipython",
    "version": 3
   },
   "file_extension": ".py",
   "mimetype": "text/x-python",
   "name": "python",
   "nbconvert_exporter": "python",
   "pygments_lexer": "ipython3",
   "version": "3.7.3"
  }
 },
 "nbformat": 4,
 "nbformat_minor": 2
}
