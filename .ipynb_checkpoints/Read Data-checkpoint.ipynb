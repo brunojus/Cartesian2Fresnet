{
 "cells": [
  {
   "cell_type": "code",
   "execution_count": 52,
   "metadata": {},
   "outputs": [],
   "source": [
    "from pprint import pprint\n",
    "import re\n",
    "import pandas as pd\n",
    "from scipy import interpolate\n",
    "import matplotlib.pyplot as plt\n",
    "import numpy as np\n",
    "from scipy.interpolate import InterpolatedUnivariateSpline\n",
    "import sympy as sym\n",
    "\n",
    "dictpat = r'\\{((?:\\s*\\w+\\s*:\\s*\\D+\\w+.\\d+\\s*)+)\\}' # note non-capturing (?:) inner group\n",
    "itempat = r'(\\s*(\\w+)\\s*:\\s*(\\D+\\w+.\\d+)\\s*)'      # which is captured in this expr\n",
    "\n",
    "with open('reference_points.pb.txt') as f:\n",
    "    lod = [{group[1]:group[2] for group in re.findall(itempat, items)}\n",
    "                                for items in re.findall(dictpat, f.read())]\n",
    "\n"
   ]
  },
  {
   "cell_type": "code",
   "execution_count": 2,
   "metadata": {},
   "outputs": [],
   "source": [
    "df = pd.DataFrame(lod)\n",
    "df = df.apply(pd.to_numeric)"
   ]
  },
  {
   "cell_type": "code",
   "execution_count": 5,
   "metadata": {},
   "outputs": [
    {
     "data": {
      "text/plain": [
       "Text(0, 0.5, 'y')"
      ]
     },
     "execution_count": 5,
     "metadata": {},
     "output_type": "execute_result"
    },
    {
     "data": {
      "image/png": "[encoded data removed]",
      "text/plain": [
       "<Figure size 432x288 with 1 Axes>"
      ]
     },
     "metadata": {
      "needs_background": "light"
     },
     "output_type": "display_data"
    }
   ],
   "source": [
    "plt.plot(df['x'],df['y'])\n",
    "plt.xlabel('x')\n",
    "plt.ylabel('y')"
   ]
  },
  {
   "cell_type": "code",
   "execution_count": 8,
   "metadata": {},
   "outputs": [
    {
     "data": {
      "image/png": "[encoded data removed]",
      "text/plain": [
       "<Figure size 432x288 with 1 Axes>"
      ]
     },
     "metadata": {
      "needs_background": "light"
     },
     "output_type": "display_data"
    }
   ],
   "source": [
    "x = df['x']  # sort data points by increasing x value\n",
    "y = df['y']\n",
    "arr = np.arange(np.amin(x), np.amax(x), 0.01)\n",
    "s = interpolate.CubicSpline(x, y)\n",
    "\n",
    "fig, ax = plt.subplots(1, 1)\n",
    "ax.plot(x, y, 'bo', label='Data Point')\n",
    "ax.plot(arr, s(arr), 'k-', label='Cubic Spline', lw=1)\n",
    "\n",
    "for i in range(x.shape[0] - 1):\n",
    "    segment_x = np.linspace(x[i], x[i + 1], 100)\n",
    "    # A (4, 100) array, where the rows contain (x-x[i])**3, (x-x[i])**2 etc.\n",
    "    exp_x = (segment_x - x[i])[None, :] ** np.arange(4)[::-1, None]\n",
    "    # Sum over the rows of exp_x weighted by coefficients in the ith column of s.c\n",
    "    segment_y = s.c[:, i].dot(exp_x)\n",
    "    ax.plot(segment_x, segment_y, ls='--', lw=3)\n",
    "\n",
    "ax.legend()\n",
    "plt.show()\n"
   ]
  },
  {
   "cell_type": "code",
   "execution_count": 186,
   "metadata": {},
   "outputs": [],
   "source": [
    "poly = np.polyfit(df['x'], df['y'],2)\n",
    "p = np.poly1d(poly)"
   ]
  },
  {
   "cell_type": "markdown",
   "metadata": {},
   "source": [
    "## Tangente"
   ]
  },
  {
   "cell_type": "code",
   "execution_count": 311,
   "metadata": {},
   "outputs": [],
   "source": [
    "t = sym.Symbol('t')"
   ]
  },
  {
   "cell_type": "code",
   "execution_count": 190,
   "metadata": {},
   "outputs": [],
   "source": [
    "tg = p[2]*t**2 + p[1]*t + p[0]"
   ]
  },
  {
   "cell_type": "code",
   "execution_count": 192,
   "metadata": {},
   "outputs": [],
   "source": [
    "first_derivative = sym.diff(tg,t)"
   ]
  },
  {
   "cell_type": "code",
   "execution_count": 326,
   "metadata": {},
   "outputs": [],
   "source": [
    "x_0,x_1 = first_derivative.args\n",
    "therm_indep = x_0/sym.sqrt(x_0**2+x_1**2)\n",
    "therm_dep = x_1/sym.sqrt(x_0**2+x_1**2)\n",
    "\n",
    "therm_indep = sym.N(therm_indep)\n",
    "therm_dep = sym.N(therm_dep)\n",
    "\n",
    "# Read a variable \n",
    "therm_dep = therm_dep.xreplace({t: t})\n",
    "therm_indep = therm_indep.xreplace({t: t})\n",
    "\n",
    "vector_tangent = (therm_dep, therm_indep, 0)\n",
    "vector_tangent = sym.Matrix(vector_tangent)"
   ]
  },
  {
   "cell_type": "markdown",
   "metadata": {},
   "source": [
    "### Normal"
   ]
  },
  {
   "cell_type": "code",
   "execution_count": 312,
   "metadata": {},
   "outputs": [],
   "source": [
    "normal = vector_tangent[0]+ vector_tangent[1] + vector_tangent[2]"
   ]
  },
  {
   "cell_type": "code",
   "execution_count": 313,
   "metadata": {},
   "outputs": [],
   "source": [
    "second_derivative = sym.diff(normal,t)"
   ]
  },
  {
   "cell_type": "code",
   "execution_count": 314,
   "metadata": {},
   "outputs": [],
   "source": [
    "n_0,n_1,n_2 = second_derivative.args"
   ]
  },
  {
   "cell_type": "code",
   "execution_count": 315,
   "metadata": {},
   "outputs": [],
   "source": [
    "therm_0 = n_0/sym.sqrt(n_0**2+n_1**2,n_2**2)\n",
    "therm_1 = n_1/sym.sqrt(n_0**2+n_1**2,n_2**2)\n",
    "therm_2 = n_2/sym.sqrt(n_0**2+n_1**2,n_2**2)"
   ]
  },
  {
   "cell_type": "code",
   "execution_count": 316,
   "metadata": {},
   "outputs": [],
   "source": [
    "therm_0 = sym.N(therm_0)\n",
    "therm_1 = sym.N(therm_1)\n",
    "therm_2 = sym.N(therm_2)"
   ]
  },
  {
   "cell_type": "code",
   "execution_count": 317,
   "metadata": {},
   "outputs": [],
   "source": [
    "vector_normal = [therm_0,therm_1,therm_2]"
   ]
  },
  {
   "cell_type": "code",
   "execution_count": 324,
   "metadata": {},
   "outputs": [],
   "source": [
    "normal_vector = sym.Matrix(vector_normal)"
   ]
  },
  {
   "cell_type": "code",
   "execution_count": 334,
   "metadata": {},
   "outputs": [
    {
     "data": {
      "text/plain": [
       "0.121783569725799"
      ]
     },
     "execution_count": 334,
     "metadata": {},
     "output_type": "execute_result"
    }
   ],
   "source": [
    "vector_tangent.dot(normal_vector).xreplace({t: 1})"
   ]
  },
  {
   "cell_type": "code",
   "execution_count": null,
   "metadata": {},
   "outputs": [],
   "source": []
  }
 ],
 "metadata": {
  "kernelspec": {
   "display_name": "Python 3",
   "language": "python",
   "name": "python3"
  },
  "language_info": {
   "codemirror_mode": {
    "name": "ipython",
    "version": 3
   },
   "file_extension": ".py",
   "mimetype": "text/x-python",
   "name": "python",
   "nbconvert_exporter": "python",
   "pygments_lexer": "ipython3",
   "version": "3.7.3"
  }
 },
 "nbformat": 4,
 "nbformat_minor": 2
}
